{
 "cells": [
  {
   "cell_type": "code",
   "execution_count": null,
   "id": "54209bb9",
   "metadata": {},
   "outputs": [],
   "source": [
    "from dask.distributed import Client, SSHCluster, default_client\n",
    "import dask.bag as db\n",
    "import dask.dataframe as dd\n",
    "import numpy as np\n",
    "import json\n",
    "from IPython.display import clear_output\n",
    "scheduler = \"10.67.22.173\" # 10.67.22.173 -- vm : mapdb-group9-2\n",
    "worker1 = \"10.67.22.153\" # vm : mapdb-group9-2\n",
    "worker2 = \"10.67.22.150\" # vm : mapdb-group9-3\n",
    "worker3 = \"10.67.22.183\" # vm : mapdb-group9-4\n",
    "class ClusterError(Exception):\n",
    "    pass\n",
    "\n",
    "try: ## This starts the cluster but if it was started and not closed, this will raise error, so\n",
    "    cluster = SSHCluster(\n",
    "    [scheduler,worker1,worker2, worker3],\n",
    "    connect_options={\"known_hosts\": None},\n",
    "    scheduler_options={\"port\": 8786, \"dashboard_address\": \":8797\"}\n",
    "    )\n",
    "    client = Client(cluster)\n",
    "except RuntimeError: # this is how to resume the cluster\n",
    "    clear_output()\n",
    "    client = Client(scheduler + ':8786') # restarts the cluster, by simply recalling it\n",
    "\n",
    "display(client)\n",
    "if len(client.ncores())!=3:\n",
    "    raise ClusterError(f\"ClusterError: The cluster is not properly set: n.{len(client.ncores())} instead of 3 \")\n",
    "else:\n",
    "    pass"
   ]
  },
  {
   "cell_type": "code",
   "execution_count": 18,
   "id": "b0f5cd28",
   "metadata": {},
   "outputs": [],
   "source": [
    "import json\n",
    "import re\n",
    "\n",
    "path = \"../data/30/document_parses/pdf_json/fff1194fa9a0e18d13a565a7a2355a584cb860b1.json\"\n",
    "\n",
    "\n",
    "with open(path, \"r\") as f:\n",
    "    file = json.load(f)\n",
    "\n",
    "#@dask.delayed\n",
    "def parser(file:dict) -> str:\n",
    "    \"\"\"\n",
    "    TO DO: insert opener here?? let's see how it goes w/map\n",
    "    Takes in input a single dictionary, the one from json.load(.../pdf_json/*.json)\n",
    "    and returns only bodytexts joined in a string.\n",
    "    \"\"\"\n",
    "    sections = list(map(lambda section: section[\"text\"], file[\"body_text\"] ))\n",
    "    return ''.join(sections)\n",
    "\n",
    "#@dask.delayed\n",
    "def cleaner(input:str) -> str:\n",
    "    \"\"\"\n",
    "    Should clean strings from characters like commas and other things we don't wanna count.\n",
    "    \"\"\"\n",
    "    lowered = input.lower()\n",
    "    cleaned = re.sub(r'[^ a-z0-9]', '', lowered)\n",
    "    return cleaned\n",
    "\n",
    "#@dask.delayed\n",
    "def word_count(input:str) -> dict:\n",
    "    \"\"\"\n",
    "    The actual word count... i hope.\n",
    "    \"\"\"\n",
    "    death = input.split()\n",
    "    alicia = dict()\n",
    "    for i in death:\n",
    "        if i in alicia.keys():\n",
    "            pass\n",
    "        else:\n",
    "            alicia[i] = death.count(i)\n",
    "    return alicia\n"
   ]
  },
  {
   "cell_type": "code",
   "execution_count": 19,
   "id": "a9eead4e",
   "metadata": {},
   "outputs": [],
   "source": [
    "fine = word_count(cleaner(parser(file)))"
   ]
  },
  {
   "cell_type": "code",
   "execution_count": 22,
   "id": "d3e4eaee",
   "metadata": {},
   "outputs": [
    {
     "data": {
      "text/plain": [
       "<BarContainer object of 459 artists>"
      ]
     },
     "execution_count": 22,
     "metadata": {},
     "output_type": "execute_result"
    },
    {
     "data": {
      "image/png": "[encoded data removed]",
      "text/plain": [
       "<Figure size 640x480 with 1 Axes>"
      ]
     },
     "metadata": {},
     "output_type": "display_data"
    }
   ],
   "source": [
    "import matplotlib.pyplot as plt\n",
    "\n",
    "keys = list(fine.keys())\n",
    "vals = list(fine.values())\n",
    "plt.bar(keys, vals)"
   ]
  },
  {
   "cell_type": "code",
   "execution_count": null,
   "id": "86ac1e62",
   "metadata": {},
   "outputs": [],
   "source": []
  }
 ],
 "metadata": {
  "kernelspec": {
   "display_name": "base",
   "language": "python",
   "name": "python3"
  },
  "language_info": {
   "codemirror_mode": {
    "name": "ipython",
    "version": 3
   },
   "file_extension": ".py",
   "mimetype": "text/x-python",
   "name": "python",
   "nbconvert_exporter": "python",
   "pygments_lexer": "ipython3",
   "version": "3.13.2"
  }
 },
 "nbformat": 4,
 "nbformat_minor": 5
}
